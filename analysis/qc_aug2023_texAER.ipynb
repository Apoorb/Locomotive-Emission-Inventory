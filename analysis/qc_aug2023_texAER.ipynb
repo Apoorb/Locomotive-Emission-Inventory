{
 "cells": [
  {
   "cell_type": "markdown",
   "metadata": {},
   "source": [
    "# Compare TexAER Excel Output with TTI's Trends CSVs for QC  \n",
    "Created by: Apoorb  \n",
    "Created on: Aug 03, 2023"
   ]
  },
  {
   "cell_type": "code",
   "execution_count": 2,
   "metadata": {},
   "outputs": [],
   "source": [
    "import pandas as pd\n",
    "from pathlib import Path"
   ]
  },
  {
   "cell_type": "markdown",
   "metadata": {},
   "source": [
    "## Load Data and Mapping Files"
   ]
  },
  {
   "cell_type": "code",
   "execution_count": 3,
   "metadata": {},
   "outputs": [],
   "source": [
    "pa_dat = Path(r\"C:\\Users\\a-bibeka\\PycharmProjects\\Loco-EI\\data\\processed\\QC_TexAER_Aug2023\")\n",
    "pa_crosswalk_tti_texAER = pa_dat.joinpath(\"crosswalk_tti_texAER.xlsx\")\n",
    "x1 = pd.ExcelFile(pa_crosswalk_tti_texAER)\n",
    "pa_cntr_emis = pa_dat.joinpath(\"Task6.2_Appendix G cntr_emis_quant_2011_50.csv\")\n",
    "pa_uncntr_emis = pa_dat.joinpath(\"Task6.2_Appendix G uncntr_emis_quant_2011_50.csv\")"
   ]
  },
  {
   "cell_type": "code",
   "execution_count": 8,
   "metadata": {},
   "outputs": [
    {
     "name": "stderr",
     "output_type": "stream",
     "text": [
      "C:\\Users\\a-bibeka\\AppData\\Local\\Temp\\ipykernel_24660\\4287662209.py:8: DtypeWarning: Columns (23) have mixed types. Specify dtype option on import or set low_memory=False.\n",
      "  uncntr_emis = pd.read_csv(pa_uncntr_emis, index_col=0)\n"
     ]
    }
   ],
   "source": [
    "crosswalk_cnty = x1.parse(\"crosswalk_cnty\")\n",
    "crosswalk_cnty = crosswalk_cnty.drop(columns=\"TexAER_idx\")\n",
    "pol_ord = x1.parse(\"pol_ord\")\n",
    "pol_ord1 = list(pol_ord.pol_ord.astype(str))\n",
    "o3d_pol = x1.parse(\"o3d_pol\")\n",
    "years = range(2025, 2034)\n",
    "cntr_emis = pd.read_csv(pa_cntr_emis, index_col=0)\n",
    "uncntr_emis = pd.read_csv(pa_uncntr_emis, index_col=0)\n",
    "scc = pd.DataFrame({\"scc\": ['2285002006', '2285002007', '2285002008', '2285002009', '2285002010']})"
   ]
  },
  {
   "cell_type": "markdown",
   "metadata": {},
   "source": [
    "## Reshape Data"
   ]
  },
  {
   "cell_type": "markdown",
   "metadata": {},
   "source": [
    "Get the expected category combinations"
   ]
  },
  {
   "cell_type": "code",
   "execution_count": 10,
   "metadata": {},
   "outputs": [
    {
     "data": {
      "text/html": [
       "<div>\n",
       "<style scoped>\n",
       "    .dataframe tbody tr th:only-of-type {\n",
       "        vertical-align: middle;\n",
       "    }\n",
       "\n",
       "    .dataframe tbody tr th {\n",
       "        vertical-align: top;\n",
       "    }\n",
       "\n",
       "    .dataframe thead th {\n",
       "        text-align: right;\n",
       "    }\n",
       "</style>\n",
       "<table border=\"1\" class=\"dataframe\">\n",
       "  <thead>\n",
       "    <tr style=\"text-align: right;\">\n",
       "      <th></th>\n",
       "      <th>County</th>\n",
       "      <th>TTI_county</th>\n",
       "      <th>scc</th>\n",
       "      <th>pollutant</th>\n",
       "    </tr>\n",
       "  </thead>\n",
       "  <tbody>\n",
       "    <tr>\n",
       "      <th>0</th>\n",
       "      <td>ANDERSON COUNTY</td>\n",
       "      <td>Anderson</td>\n",
       "      <td>2285002006</td>\n",
       "      <td>VOC</td>\n",
       "    </tr>\n",
       "    <tr>\n",
       "      <th>53</th>\n",
       "      <td>ANDERSON COUNTY</td>\n",
       "      <td>Anderson</td>\n",
       "      <td>2285002007</td>\n",
       "      <td>VOC</td>\n",
       "    </tr>\n",
       "    <tr>\n",
       "      <th>106</th>\n",
       "      <td>ANDERSON COUNTY</td>\n",
       "      <td>Anderson</td>\n",
       "      <td>2285002008</td>\n",
       "      <td>VOC</td>\n",
       "    </tr>\n",
       "    <tr>\n",
       "      <th>159</th>\n",
       "      <td>ANDERSON COUNTY</td>\n",
       "      <td>Anderson</td>\n",
       "      <td>2285002009</td>\n",
       "      <td>VOC</td>\n",
       "    </tr>\n",
       "    <tr>\n",
       "      <th>212</th>\n",
       "      <td>ANDERSON COUNTY</td>\n",
       "      <td>Anderson</td>\n",
       "      <td>2285002010</td>\n",
       "      <td>VOC</td>\n",
       "    </tr>\n",
       "    <tr>\n",
       "      <th>...</th>\n",
       "      <td>...</td>\n",
       "      <td>...</td>\n",
       "      <td>...</td>\n",
       "      <td>...</td>\n",
       "    </tr>\n",
       "    <tr>\n",
       "      <th>67045</th>\n",
       "      <td>ZAVALA COUNTY</td>\n",
       "      <td>NaN</td>\n",
       "      <td>2285002006</td>\n",
       "      <td>VOC</td>\n",
       "    </tr>\n",
       "    <tr>\n",
       "      <th>67098</th>\n",
       "      <td>ZAVALA COUNTY</td>\n",
       "      <td>NaN</td>\n",
       "      <td>2285002007</td>\n",
       "      <td>VOC</td>\n",
       "    </tr>\n",
       "    <tr>\n",
       "      <th>67151</th>\n",
       "      <td>ZAVALA COUNTY</td>\n",
       "      <td>NaN</td>\n",
       "      <td>2285002008</td>\n",
       "      <td>VOC</td>\n",
       "    </tr>\n",
       "    <tr>\n",
       "      <th>67204</th>\n",
       "      <td>ZAVALA COUNTY</td>\n",
       "      <td>NaN</td>\n",
       "      <td>2285002009</td>\n",
       "      <td>VOC</td>\n",
       "    </tr>\n",
       "    <tr>\n",
       "      <th>67257</th>\n",
       "      <td>ZAVALA COUNTY</td>\n",
       "      <td>NaN</td>\n",
       "      <td>2285002010</td>\n",
       "      <td>VOC</td>\n",
       "    </tr>\n",
       "  </tbody>\n",
       "</table>\n",
       "<p>1270 rows × 4 columns</p>\n",
       "</div>"
      ],
      "text/plain": [
       "                County TTI_county         scc pollutant\n",
       "0      ANDERSON COUNTY   Anderson  2285002006       VOC\n",
       "53     ANDERSON COUNTY   Anderson  2285002007       VOC\n",
       "106    ANDERSON COUNTY   Anderson  2285002008       VOC\n",
       "159    ANDERSON COUNTY   Anderson  2285002009       VOC\n",
       "212    ANDERSON COUNTY   Anderson  2285002010       VOC\n",
       "...                ...        ...         ...       ...\n",
       "67045    ZAVALA COUNTY        NaN  2285002006       VOC\n",
       "67098    ZAVALA COUNTY        NaN  2285002007       VOC\n",
       "67151    ZAVALA COUNTY        NaN  2285002008       VOC\n",
       "67204    ZAVALA COUNTY        NaN  2285002009       VOC\n",
       "67257    ZAVALA COUNTY        NaN  2285002010       VOC\n",
       "\n",
       "[1270 rows x 4 columns]"
      ]
     },
     "execution_count": 10,
     "metadata": {},
     "output_type": "execute_result"
    }
   ],
   "source": [
    "exp_data_ = crosswalk_cnty.merge(scc, how=\"cross\").merge(pol_ord, how=\"cross\").rename(columns={\"pol_ord\": \"pollutant\", \"TTI\": \"TTI_county\", \"TexAER\": \"County\"})\n",
    "exp_data_.loc[exp_data_.pollutant == \"VOC\"]"
   ]
  },
  {
   "cell_type": "markdown",
   "metadata": {},
   "source": [
    "Reshape the data"
   ]
  },
  {
   "cell_type": "code",
   "execution_count": 87,
   "metadata": {},
   "outputs": [],
   "source": [
    "def piv_loco(exp_data_, emis_df, year_, emis_ton_col):\n",
    "    emis_df_1 = emis_df.loc[lambda df: df.year == year_].groupby(['year', 'stcntyfips', 'county_name', 'scc', 'pollutant'])[emis_ton_col].sum().reset_index()\n",
    "    emis_df_1[\"scc\"] = emis_df_1[\"scc\"].astype(\"Int64\").astype(str)\n",
    "    emis_df_1 = emis_df_1.rename(columns={\"county_name\": \"TTI_county\"})\n",
    "    exp_data_[\"pollutant\"] = exp_data_[\"pollutant\"].astype(str)\n",
    "    emis_df_1[\"pollutant\"] = emis_df_1[\"pollutant\"].astype(str)\n",
    "    exp_data_1 = exp_data_.merge(emis_df_1, on=[\"TTI_county\", \"scc\", \"pollutant\"], how=\"left\")\n",
    "    exp_data_1[\"year\"] = year_\n",
    "    exp_data_2 = exp_data_1.drop(columns=[\"TTI_county\", \"stcntyfips\"]).set_index([\"year\", \"County\", \"scc\", \"pollutant\"]).unstack()\n",
    "    set(exp_data_2.columns).symmetric_difference(set(pol_ord1))\n",
    "    exp_data_3 = exp_data_2.droplevel(0, axis=1).reset_index()\n",
    "    exp_data_4 = exp_data_3.rename(columns={\"year\": \"Year\", \"scc\": \"SCC\"}).filter(items=[\"Year\", \"County\", \"SCC\"] + pol_ord1)\n",
    "    exp_data_5 = exp_data_4.set_index([\"Year\", \"County\", \"SCC\"])\n",
    "    exp_data_5 = exp_data_5.round(2)\n",
    "    reindex_idx = []\n",
    "    for i in o3d_pol.O3D_pol.unique():\n",
    "        reindex_idx.append((i, \"Annual\"))\n",
    "        reindex_idx.append((i, \"O3D\"))\n",
    "    exp_data_5_o3d = exp_data_5[o3d_pol.O3D_pol.unique()]\n",
    "    exp_data_5_o3d.columns = [(i,\"Annual\") for i in exp_data_5_o3d.columns]\n",
    "    multi_idx = pd.MultiIndex.from_tuples(reindex_idx, names=('Pollutants', 'Temporal Scope'))\n",
    "    exp_data_5_o3d_1 = exp_data_5_o3d.reindex(multi_idx, axis=\"columns\")\n",
    "    idx = pd.IndexSlice\n",
    "    exp_data_5_o3d_1.loc[:, idx[:, \"O3D\"]] = (exp_data_5_o3d_1.loc[:, idx[:, \"Annual\"]] / 365).round(4).values\n",
    "    ann_cols = [i for i in exp_data_5.columns if i not in o3d_pol.O3D_pol.unique()]\n",
    "    exp_data_5_ann = exp_data_5[ann_cols]\n",
    "    col_reindex = [(i,\"Annual\") for i in exp_data_5_ann.columns]\n",
    "    exp_data_5_ann.columns = col_reindex\n",
    "    multi_idx_1 = pd.MultiIndex.from_tuples(col_reindex, names=('Pollutants', 'Temporal Scope'))\n",
    "    exp_data_5_ann = exp_data_5_ann.reindex(multi_idx_1, axis=\"columns\")\n",
    "    exp_data_5_o3d_ann = pd.concat([exp_data_5_o3d_1, exp_data_5_ann], axis=1).fillna(0)\n",
    "    return exp_data_5_o3d_ann"
   ]
  },
  {
   "cell_type": "code",
   "execution_count": 88,
   "metadata": {},
   "outputs": [],
   "source": [
    "x_out = pd.ExcelWriter(pa_dat.joinpath(f\"tti_csv_2025to2033_controlled_emissions.xlsx\"))\n",
    "for year in years:\n",
    "    data = piv_loco(\n",
    "        exp_data_=exp_data_, \n",
    "        emis_df=cntr_emis,\n",
    "        year_=year,\n",
    "        emis_ton_col=\"controlled_em_quant_ton\"\n",
    "    )\n",
    "    data.to_excel(x_out, sheet_name=str(year))\n",
    "x_out.close()"
   ]
  },
  {
   "cell_type": "code",
   "execution_count": 89,
   "metadata": {},
   "outputs": [],
   "source": [
    "x_out = pd.ExcelWriter(pa_dat.joinpath(f\"tti_csv_2025to2033_uncontrolled_emissions.xlsx\"))\n",
    "for year in years:\n",
    "    data = piv_loco(\n",
    "        exp_data_=exp_data_, \n",
    "        emis_df=uncntr_emis,\n",
    "        year_=year,\n",
    "        emis_ton_col=\"uncontrolled_em_quant_ton\"\n",
    "    )\n",
    "    data.to_excel(x_out, sheet_name=str(year))\n",
    "x_out.close()"
   ]
  },
  {
   "cell_type": "code",
   "execution_count": 90,
   "metadata": {},
   "outputs": [],
   "source": [
    "x_in = pd.ExcelFile(pa_dat.joinpath(f\"tti_csv_2025to2033_controlled_emissions.xlsx\"))\n",
    "tti_2025_cntr = x_in.parse(\"2025\", index_col=[0,1,2], header=[0,1])"
   ]
  },
  {
   "cell_type": "code",
   "execution_count": 91,
   "metadata": {},
   "outputs": [],
   "source": [
    "columns = tti_2025_cntr.reset_index().columns[1:]"
   ]
  },
  {
   "cell_type": "code",
   "execution_count": 92,
   "metadata": {},
   "outputs": [],
   "source": [
    "pa_texAER_2025 = pa_dat.joinpath(\"Locomotive Trend EIs_CY2025 Controlled_TexAER.xlsx\")\n",
    "texAER_2025 = pd.read_excel(pa_texAER_2025, skiprows=10, header=None)\n",
    "texAER_2025.columns = columns\n",
    "texAER_2025 = texAER_2025.set_index([\"County\", \"SCC\"])"
   ]
  },
  {
   "cell_type": "code",
   "execution_count": 93,
   "metadata": {},
   "outputs": [
    {
     "name": "stderr",
     "output_type": "stream",
     "text": [
      "C:\\Users\\a-bibeka\\AppData\\Local\\Temp\\ipykernel_24660\\2469050804.py:1: PerformanceWarning: dropping on a non-lexsorted multi-index without a level parameter may impact performance.\n",
      "  texAER_2025 = texAER_2025.drop(\"Total\")\n"
     ]
    }
   ],
   "source": [
    "texAER_2025 = texAER_2025.drop(\"Total\")"
   ]
  },
  {
   "cell_type": "code",
   "execution_count": 94,
   "metadata": {},
   "outputs": [],
   "source": [
    "import numpy as  np"
   ]
  },
  {
   "cell_type": "code",
   "execution_count": 95,
   "metadata": {},
   "outputs": [],
   "source": [
    "idx = pd.IndexSlice\n",
    "test_1 = tti_2025_cntr.loc[:, idx[\"VOC\", \"O3D\"]]\n",
    "test_2 = texAER_2025.loc[:, idx[\"VOC\", \"O3D\"]]"
   ]
  },
  {
   "cell_type": "code",
   "execution_count": 96,
   "metadata": {},
   "outputs": [
    {
     "data": {
      "text/plain": [
       "County            SCC         \n",
       "ANDERSON COUNTY   2.285002e+09    0.0029\n",
       "ANGELINA COUNTY   2.285002e+09    0.0003\n",
       "BRAZORIA COUNTY   2.285002e+09    0.0214\n",
       "CHAMBERS COUNTY   2.285002e+09    0.0020\n",
       "CRANE COUNTY      2.285002e+09    0.0003\n",
       "DALLAM COUNTY     2.285002e+09    0.0029\n",
       "DELTA COUNTY      2.285002e+09    0.0000\n",
       "GONZALES COUNTY   2.285002e+09    0.0069\n",
       "GUADALUPE COUNTY  2.285002e+09    0.0006\n",
       "HALE COUNTY       2.285002e+09    0.0031\n",
       "HILL COUNTY       2.285002e+09    0.0142\n",
       "HOCKLEY COUNTY    2.285002e+09    0.0009\n",
       "KAUFMAN COUNTY    2.285002e+09    0.0077\n",
       "MATAGORDA COUNTY  2.285002e+09    0.0000\n",
       "MEDINA COUNTY     2.285002e+09    0.0008\n",
       "MILAM COUNTY      2.285002e+09    0.0328\n",
       "                  2.285002e+09    0.0000\n",
       "MILLS COUNTY      2.285002e+09    0.0000\n",
       "MONTAGUE COUNTY   2.285002e+09    0.0100\n",
       "ROBERTSON COUNTY  2.285002e+09    0.0029\n",
       "ROCKWALL COUNTY   2.285002e+09    0.0011\n",
       "SHELBY COUNTY     2.285002e+09    0.0023\n",
       "STARR COUNTY      2.285002e+09    0.0014\n",
       "TRINITY COUNTY    2.285002e+09    0.0031\n",
       "UPTON COUNTY      2.285002e+09    0.0023\n",
       "WICHITA COUNTY    2.285002e+09    0.0009\n",
       "WILSON COUNTY     2.285002e+09    0.0029\n",
       "WISE COUNTY       2.285002e+09    0.0029\n",
       "Name: (VOC, O3D), dtype: float64"
      ]
     },
     "execution_count": 96,
     "metadata": {},
     "output_type": "execute_result"
    }
   ],
   "source": [
    "test_2.loc[~np.isclose((test_1 -test_2).values, 0)]"
   ]
  },
  {
   "cell_type": "code",
   "execution_count": 100,
   "metadata": {},
   "outputs": [
    {
     "data": {
      "text/plain": [
       "Series([], Name: (VOC, O3D), dtype: float64)"
      ]
     },
     "execution_count": 100,
     "metadata": {},
     "output_type": "execute_result"
    }
   ],
   "source": [
    "test_1.loc[~np.isclose((test_1 -test_2).values, 0, atol=0.001)]"
   ]
  },
  {
   "cell_type": "code",
   "execution_count": 105,
   "metadata": {},
   "outputs": [
    {
     "data": {
      "text/plain": [
       "True"
      ]
     },
     "execution_count": 105,
     "metadata": {},
     "output_type": "execute_result"
    }
   ],
   "source": [
    "assert np.allclose(tti_2025_cntr.loc[:, idx[:, \"Annual\"]], texAER_2025.loc[:, idx[:, \"Annual\"]])"
   ]
  },
  {
   "cell_type": "code",
   "execution_count": 109,
   "metadata": {},
   "outputs": [],
   "source": [
    "assert np.allclose(tti_2025_cntr.loc[:, idx[:, \"O3D\"]], texAER_2025.loc[:, idx[:, \"O3D\"]], atol=0.0001)"
   ]
  }
 ],
 "metadata": {
  "kernelspec": {
   "display_name": "py39",
   "language": "python",
   "name": "python3"
  },
  "language_info": {
   "codemirror_mode": {
    "name": "ipython",
    "version": 3
   },
   "file_extension": ".py",
   "mimetype": "text/x-python",
   "name": "python",
   "nbconvert_exporter": "python",
   "pygments_lexer": "ipython3",
   "version": "3.9.13"
  },
  "orig_nbformat": 4
 },
 "nbformat": 4,
 "nbformat_minor": 2
}
